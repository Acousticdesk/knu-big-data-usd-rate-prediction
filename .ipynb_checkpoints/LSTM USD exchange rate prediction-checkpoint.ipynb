{
 "cells": [
  {
   "cell_type": "markdown",
   "id": "8202619b",
   "metadata": {},
   "source": [
    "# Оцінка курсу долара за допомогою Нейронної Мережі LSTM"
   ]
  },
  {
   "cell_type": "markdown",
   "id": "e403a4a1",
   "metadata": {},
   "source": [
    "Виконав студент ІПЗм-11 Кича Андрій"
   ]
  },
  {
   "cell_type": "markdown",
   "id": "5b508994",
   "metadata": {},
   "source": [
    "LSTM - Long short-term memory. Використовується для аналізу часових рядів та рядів даних що взаємоповʼязані між собою."
   ]
  },
  {
   "cell_type": "markdown",
   "id": "40d267c8",
   "metadata": {},
   "source": [
    "Набір даних взято з ресурсу Yahoo Finance https://finance.yahoo.com/quote/USDUAH%3DX/history?p=USDUAH%3DX"
   ]
  },
  {
   "cell_type": "code",
   "execution_count": 195,
   "id": "12e98b77",
   "metadata": {},
   "outputs": [],
   "source": [
    "import pandas as pd"
   ]
  },
  {
   "cell_type": "markdown",
   "id": "7e9465ed",
   "metadata": {},
   "source": [
    "## Переведення набору даних до формату pd"
   ]
  },
  {
   "cell_type": "markdown",
   "id": "061a38b7",
   "metadata": {},
   "source": [
    "Створення дата фрейму pd важливе для спрощення маніпуляцій над набором даних"
   ]
  },
  {
   "cell_type": "code",
   "execution_count": 196,
   "id": "7cc300ce",
   "metadata": {},
   "outputs": [
    {
     "data": {
      "text/html": [
       "<div>\n",
       "<style scoped>\n",
       "    .dataframe tbody tr th:only-of-type {\n",
       "        vertical-align: middle;\n",
       "    }\n",
       "\n",
       "    .dataframe tbody tr th {\n",
       "        vertical-align: top;\n",
       "    }\n",
       "\n",
       "    .dataframe thead th {\n",
       "        text-align: right;\n",
       "    }\n",
       "</style>\n",
       "<table border=\"1\" class=\"dataframe\">\n",
       "  <thead>\n",
       "    <tr style=\"text-align: right;\">\n",
       "      <th></th>\n",
       "      <th>Date</th>\n",
       "      <th>Open</th>\n",
       "      <th>High</th>\n",
       "      <th>Low</th>\n",
       "      <th>Close</th>\n",
       "      <th>Adj Close</th>\n",
       "      <th>Volume</th>\n",
       "    </tr>\n",
       "  </thead>\n",
       "  <tbody>\n",
       "    <tr>\n",
       "      <th>0</th>\n",
       "      <td>2018-03-15</td>\n",
       "      <td>25.844999</td>\n",
       "      <td>26.069000</td>\n",
       "      <td>25.806601</td>\n",
       "      <td>25.806601</td>\n",
       "      <td>25.806601</td>\n",
       "      <td>0.0</td>\n",
       "    </tr>\n",
       "    <tr>\n",
       "      <th>1</th>\n",
       "      <td>2018-03-16</td>\n",
       "      <td>26.173000</td>\n",
       "      <td>26.173000</td>\n",
       "      <td>25.806601</td>\n",
       "      <td>25.806601</td>\n",
       "      <td>25.806601</td>\n",
       "      <td>0.0</td>\n",
       "    </tr>\n",
       "    <tr>\n",
       "      <th>2</th>\n",
       "      <td>2018-03-19</td>\n",
       "      <td>26.278000</td>\n",
       "      <td>26.278000</td>\n",
       "      <td>26.117500</td>\n",
       "      <td>25.931601</td>\n",
       "      <td>25.931601</td>\n",
       "      <td>0.0</td>\n",
       "    </tr>\n",
       "    <tr>\n",
       "      <th>3</th>\n",
       "      <td>2018-03-20</td>\n",
       "      <td>26.080999</td>\n",
       "      <td>26.080999</td>\n",
       "      <td>25.931601</td>\n",
       "      <td>26.117500</td>\n",
       "      <td>26.117500</td>\n",
       "      <td>0.0</td>\n",
       "    </tr>\n",
       "    <tr>\n",
       "      <th>4</th>\n",
       "      <td>2018-03-21</td>\n",
       "      <td>26.142000</td>\n",
       "      <td>26.142000</td>\n",
       "      <td>26.035500</td>\n",
       "      <td>26.049999</td>\n",
       "      <td>26.049999</td>\n",
       "      <td>0.0</td>\n",
       "    </tr>\n",
       "    <tr>\n",
       "      <th>...</th>\n",
       "      <td>...</td>\n",
       "      <td>...</td>\n",
       "      <td>...</td>\n",
       "      <td>...</td>\n",
       "      <td>...</td>\n",
       "      <td>...</td>\n",
       "      <td>...</td>\n",
       "    </tr>\n",
       "    <tr>\n",
       "      <th>1300</th>\n",
       "      <td>2023-03-09</td>\n",
       "      <td>36.638458</td>\n",
       "      <td>36.662598</td>\n",
       "      <td>36.638458</td>\n",
       "      <td>36.640369</td>\n",
       "      <td>36.640369</td>\n",
       "      <td>0.0</td>\n",
       "    </tr>\n",
       "    <tr>\n",
       "      <th>1301</th>\n",
       "      <td>2023-03-10</td>\n",
       "      <td>36.566570</td>\n",
       "      <td>36.630276</td>\n",
       "      <td>36.566570</td>\n",
       "      <td>36.662598</td>\n",
       "      <td>36.662598</td>\n",
       "      <td>0.0</td>\n",
       "    </tr>\n",
       "    <tr>\n",
       "      <th>1302</th>\n",
       "      <td>2023-03-13</td>\n",
       "      <td>36.353882</td>\n",
       "      <td>36.681011</td>\n",
       "      <td>36.353882</td>\n",
       "      <td>36.446461</td>\n",
       "      <td>36.446461</td>\n",
       "      <td>0.0</td>\n",
       "    </tr>\n",
       "    <tr>\n",
       "      <th>1303</th>\n",
       "      <td>2023-03-14</td>\n",
       "      <td>36.497410</td>\n",
       "      <td>36.497410</td>\n",
       "      <td>36.456516</td>\n",
       "      <td>36.681011</td>\n",
       "      <td>36.681011</td>\n",
       "      <td>0.0</td>\n",
       "    </tr>\n",
       "    <tr>\n",
       "      <th>1304</th>\n",
       "      <td>2023-03-15</td>\n",
       "      <td>36.568501</td>\n",
       "      <td>36.568501</td>\n",
       "      <td>36.568501</td>\n",
       "      <td>36.568501</td>\n",
       "      <td>36.568501</td>\n",
       "      <td>0.0</td>\n",
       "    </tr>\n",
       "  </tbody>\n",
       "</table>\n",
       "<p>1305 rows × 7 columns</p>\n",
       "</div>"
      ],
      "text/plain": [
       "            Date       Open       High        Low      Close  Adj Close  \\\n",
       "0     2018-03-15  25.844999  26.069000  25.806601  25.806601  25.806601   \n",
       "1     2018-03-16  26.173000  26.173000  25.806601  25.806601  25.806601   \n",
       "2     2018-03-19  26.278000  26.278000  26.117500  25.931601  25.931601   \n",
       "3     2018-03-20  26.080999  26.080999  25.931601  26.117500  26.117500   \n",
       "4     2018-03-21  26.142000  26.142000  26.035500  26.049999  26.049999   \n",
       "...          ...        ...        ...        ...        ...        ...   \n",
       "1300  2023-03-09  36.638458  36.662598  36.638458  36.640369  36.640369   \n",
       "1301  2023-03-10  36.566570  36.630276  36.566570  36.662598  36.662598   \n",
       "1302  2023-03-13  36.353882  36.681011  36.353882  36.446461  36.446461   \n",
       "1303  2023-03-14  36.497410  36.497410  36.456516  36.681011  36.681011   \n",
       "1304  2023-03-15  36.568501  36.568501  36.568501  36.568501  36.568501   \n",
       "\n",
       "      Volume  \n",
       "0        0.0  \n",
       "1        0.0  \n",
       "2        0.0  \n",
       "3        0.0  \n",
       "4        0.0  \n",
       "...      ...  \n",
       "1300     0.0  \n",
       "1301     0.0  \n",
       "1302     0.0  \n",
       "1303     0.0  \n",
       "1304     0.0  \n",
       "\n",
       "[1305 rows x 7 columns]"
      ]
     },
     "execution_count": 196,
     "metadata": {},
     "output_type": "execute_result"
    }
   ],
   "source": [
    "df = pd.read_csv('USDUAH.csv')\n",
    "df"
   ]
  },
  {
   "cell_type": "markdown",
   "id": "4dcff51c",
   "metadata": {},
   "source": [
    "## Фільтрація набору даних від непотрібної для тренування моделі інформації"
   ]
  },
  {
   "cell_type": "code",
   "execution_count": 197,
   "id": "c2a2d774",
   "metadata": {},
   "outputs": [],
   "source": [
    "df = df[['Date', 'Close']]"
   ]
  },
  {
   "cell_type": "code",
   "execution_count": 198,
   "id": "73e7da45",
   "metadata": {
    "scrolled": true
   },
   "outputs": [
    {
     "data": {
      "text/html": [
       "<div>\n",
       "<style scoped>\n",
       "    .dataframe tbody tr th:only-of-type {\n",
       "        vertical-align: middle;\n",
       "    }\n",
       "\n",
       "    .dataframe tbody tr th {\n",
       "        vertical-align: top;\n",
       "    }\n",
       "\n",
       "    .dataframe thead th {\n",
       "        text-align: right;\n",
       "    }\n",
       "</style>\n",
       "<table border=\"1\" class=\"dataframe\">\n",
       "  <thead>\n",
       "    <tr style=\"text-align: right;\">\n",
       "      <th></th>\n",
       "      <th>Date</th>\n",
       "      <th>Close</th>\n",
       "    </tr>\n",
       "  </thead>\n",
       "  <tbody>\n",
       "    <tr>\n",
       "      <th>0</th>\n",
       "      <td>2018-03-15</td>\n",
       "      <td>25.806601</td>\n",
       "    </tr>\n",
       "    <tr>\n",
       "      <th>1</th>\n",
       "      <td>2018-03-16</td>\n",
       "      <td>25.806601</td>\n",
       "    </tr>\n",
       "    <tr>\n",
       "      <th>2</th>\n",
       "      <td>2018-03-19</td>\n",
       "      <td>25.931601</td>\n",
       "    </tr>\n",
       "    <tr>\n",
       "      <th>3</th>\n",
       "      <td>2018-03-20</td>\n",
       "      <td>26.117500</td>\n",
       "    </tr>\n",
       "    <tr>\n",
       "      <th>4</th>\n",
       "      <td>2018-03-21</td>\n",
       "      <td>26.049999</td>\n",
       "    </tr>\n",
       "    <tr>\n",
       "      <th>...</th>\n",
       "      <td>...</td>\n",
       "      <td>...</td>\n",
       "    </tr>\n",
       "    <tr>\n",
       "      <th>1300</th>\n",
       "      <td>2023-03-09</td>\n",
       "      <td>36.640369</td>\n",
       "    </tr>\n",
       "    <tr>\n",
       "      <th>1301</th>\n",
       "      <td>2023-03-10</td>\n",
       "      <td>36.662598</td>\n",
       "    </tr>\n",
       "    <tr>\n",
       "      <th>1302</th>\n",
       "      <td>2023-03-13</td>\n",
       "      <td>36.446461</td>\n",
       "    </tr>\n",
       "    <tr>\n",
       "      <th>1303</th>\n",
       "      <td>2023-03-14</td>\n",
       "      <td>36.681011</td>\n",
       "    </tr>\n",
       "    <tr>\n",
       "      <th>1304</th>\n",
       "      <td>2023-03-15</td>\n",
       "      <td>36.568501</td>\n",
       "    </tr>\n",
       "  </tbody>\n",
       "</table>\n",
       "<p>1305 rows × 2 columns</p>\n",
       "</div>"
      ],
      "text/plain": [
       "            Date      Close\n",
       "0     2018-03-15  25.806601\n",
       "1     2018-03-16  25.806601\n",
       "2     2018-03-19  25.931601\n",
       "3     2018-03-20  26.117500\n",
       "4     2018-03-21  26.049999\n",
       "...          ...        ...\n",
       "1300  2023-03-09  36.640369\n",
       "1301  2023-03-10  36.662598\n",
       "1302  2023-03-13  36.446461\n",
       "1303  2023-03-14  36.681011\n",
       "1304  2023-03-15  36.568501\n",
       "\n",
       "[1305 rows x 2 columns]"
      ]
     },
     "execution_count": 198,
     "metadata": {},
     "output_type": "execute_result"
    }
   ],
   "source": [
    "df"
   ]
  },
  {
   "cell_type": "markdown",
   "id": "f88f7a5a",
   "metadata": {},
   "source": [
    "## Переведення строкової репрезентації дати в обʼєкт"
   ]
  },
  {
   "cell_type": "code",
   "execution_count": 199,
   "id": "65031d53",
   "metadata": {},
   "outputs": [
    {
     "name": "stderr",
     "output_type": "stream",
     "text": [
      "/var/folders/8d/rgvq80y13sj1394jhjl5vdxh0000gn/T/ipykernel_15026/1867011112.py:1: SettingWithCopyWarning: \n",
      "A value is trying to be set on a copy of a slice from a DataFrame.\n",
      "Try using .loc[row_indexer,col_indexer] = value instead\n",
      "\n",
      "See the caveats in the documentation: https://pandas.pydata.org/pandas-docs/stable/user_guide/indexing.html#returning-a-view-versus-a-copy\n",
      "  df['Date'] = df['Date'].apply(pd.to_datetime)\n"
     ]
    }
   ],
   "source": [
    "df['Date'] = df['Date'].apply(pd.to_datetime)"
   ]
  },
  {
   "cell_type": "code",
   "execution_count": null,
   "id": "7ed157f5",
   "metadata": {
    "scrolled": true
   },
   "outputs": [],
   "source": [
    "df.dtypes"
   ]
  },
  {
   "cell_type": "markdown",
   "id": "afcd610e",
   "metadata": {},
   "source": [
    "## Візуалізація набору даних"
   ]
  },
  {
   "cell_type": "code",
   "execution_count": null,
   "id": "4205fb80",
   "metadata": {},
   "outputs": [],
   "source": [
    "import matplotlib.pyplot as plt"
   ]
  },
  {
   "cell_type": "code",
   "execution_count": null,
   "id": "f1f1c043",
   "metadata": {
    "scrolled": false
   },
   "outputs": [],
   "source": [
    "plt.plot(df['Date'].to_numpy(), df['Close'].to_numpy())\n",
    "plt.plot()"
   ]
  },
  {
   "cell_type": "markdown",
   "id": "48aec615",
   "metadata": {},
   "source": [
    "## Використання дати як індексу у дата фреймі"
   ]
  },
  {
   "cell_type": "code",
   "execution_count": null,
   "id": "95b951de",
   "metadata": {},
   "outputs": [],
   "source": [
    "df.index = df.pop('Date')"
   ]
  },
  {
   "cell_type": "code",
   "execution_count": null,
   "id": "55678a59",
   "metadata": {
    "scrolled": true
   },
   "outputs": [],
   "source": [
    "df"
   ]
  },
  {
   "cell_type": "code",
   "execution_count": null,
   "id": "fc89cfdf",
   "metadata": {
    "scrolled": true
   },
   "outputs": [],
   "source": [
    "import numpy as np\n",
    "import datetime\n",
    "\n",
    "window_size = 3\n",
    "\n",
    "def df_to_windowed_df(dataframe, first_date_str, last_date_str, n=window_size):\n",
    "  first_date = pd.to_datetime(first_date_str)\n",
    "  last_date  = pd.to_datetime(last_date_str)\n",
    "\n",
    "  target_date = first_date\n",
    "  \n",
    "  dates = []\n",
    "  X, Y = [], []\n",
    "\n",
    "  last_time = False\n",
    "  while True:\n",
    "    df_subset = dataframe.loc[:target_date].tail(n+1)\n",
    "    \n",
    "    if len(df_subset) != n+1:\n",
    "      print(f'Error: Window of size {n} is too large for date {target_date}')\n",
    "      return\n",
    "\n",
    "    values = df_subset['Close'].to_numpy()\n",
    "    x, y = values[:-1], values[-1]\n",
    "\n",
    "    dates.append(target_date)\n",
    "    X.append(x)\n",
    "    Y.append(y)\n",
    "\n",
    "    next_week = dataframe.loc[target_date:target_date+datetime.timedelta(days=7)]\n",
    "    next_datetime_str = str(next_week.head(2).tail(1).index.values[0])\n",
    "    next_date_str = next_datetime_str.split('T')[0]\n",
    "    year_month_day = next_date_str.split('-')\n",
    "    year, month, day = year_month_day\n",
    "    next_date = datetime.datetime(day=int(day), month=int(month), year=int(year))\n",
    "    \n",
    "    if last_time:\n",
    "      break\n",
    "    \n",
    "    target_date = next_date\n",
    "\n",
    "    if target_date == last_date:\n",
    "      last_time = True\n",
    "    \n",
    "  ret_df = pd.DataFrame({})\n",
    "  ret_df['Target Date'] = dates\n",
    "  \n",
    "  X = np.array(X)\n",
    "  for i in range(0, n):\n",
    "    X[:, i]\n",
    "    ret_df[f'Target-{n-i}'] = X[:, i]\n",
    "  \n",
    "  ret_df['Target'] = Y\n",
    "\n",
    "  return ret_df\n",
    "\n",
    "# Start day second time around: '2021-03-25'\n",
    "windowed_df = df_to_windowed_df(df, \n",
    "                                '2019-03-15', \n",
    "                                '2023-03-15', \n",
    "                                n=window_size)\n",
    "windowed_df"
   ]
  },
  {
   "cell_type": "code",
   "execution_count": null,
   "id": "3b742b67",
   "metadata": {
    "scrolled": false
   },
   "outputs": [],
   "source": [
    "def windowed_df_to_date_X_y(windowed_dataframe):\n",
    "  df_as_np = windowed_dataframe.to_numpy()\n",
    "\n",
    "  dates = df_as_np[:, 0]\n",
    "\n",
    "  middle_matrix = df_as_np[:, 1:-1]\n",
    "  X = middle_matrix.reshape((len(dates), middle_matrix.shape[1], 1))\n",
    "\n",
    "  Y = df_as_np[:, -1]\n",
    "\n",
    "  return dates, X.astype(np.float32), Y.astype(np.float32)\n",
    "\n",
    "dates, X, y = windowed_df_to_date_X_y(windowed_df)\n",
    "\n",
    "dates.shape, X.shape, y.shape"
   ]
  },
  {
   "cell_type": "code",
   "execution_count": null,
   "id": "ee26c77d",
   "metadata": {},
   "outputs": [],
   "source": [
    "np.isnan(y).any(0)"
   ]
  },
  {
   "cell_type": "markdown",
   "id": "b70bcaf5",
   "metadata": {},
   "source": [
    "## Фільтрація набору даних від пустих значень"
   ]
  },
  {
   "cell_type": "code",
   "execution_count": null,
   "id": "90ebf033",
   "metadata": {},
   "outputs": [],
   "source": [
    "windowed_df.shape"
   ]
  },
  {
   "cell_type": "code",
   "execution_count": null,
   "id": "ccc7fbd7",
   "metadata": {
    "scrolled": true
   },
   "outputs": [],
   "source": [
    "windowed_df.isnull().values.any()"
   ]
  },
  {
   "cell_type": "code",
   "execution_count": null,
   "id": "583d9e02",
   "metadata": {},
   "outputs": [],
   "source": [
    "windowed_df = windowed_df.dropna()\n",
    "windowed_df.isnull().values.any()"
   ]
  },
  {
   "cell_type": "code",
   "execution_count": null,
   "id": "2a94cbac",
   "metadata": {},
   "outputs": [],
   "source": [
    "windowed_df.shape"
   ]
  },
  {
   "cell_type": "code",
   "execution_count": null,
   "id": "99401744",
   "metadata": {
    "scrolled": true
   },
   "outputs": [],
   "source": [
    "q_80 = int(len(dates) * .8)\n",
    "q_90 = int(len(dates) * .9)\n",
    "\n",
    "dates_train, X_train, y_train = dates[:q_80], X[:q_80], y[:q_80]\n",
    "\n",
    "dates_val, X_val, y_val = dates[q_80:q_90], X[q_80:q_90], y[q_80:q_90]\n",
    "dates_test, X_test, y_test = dates[q_90:], X[q_90:], y[q_90:]\n",
    "\n",
    "plt.plot(dates_train, y_train)\n",
    "plt.plot(dates_val, y_val)\n",
    "plt.plot(dates_test, y_test)\n",
    "\n",
    "plt.legend(['Train', 'Validation', 'Test'])\n",
    "plt.show()"
   ]
  },
  {
   "cell_type": "markdown",
   "id": "82ade3f7",
   "metadata": {},
   "source": [
    "## Композиція моделі"
   ]
  },
  {
   "cell_type": "code",
   "execution_count": null,
   "id": "6ef6e672",
   "metadata": {},
   "outputs": [],
   "source": [
    "from tensorflow.keras.models import Sequential\n",
    "from tensorflow.keras.optimizers import Adam\n",
    "from tensorflow.keras import layers\n",
    "\n",
    "model = Sequential([layers.Input((3, 1)),\n",
    "                    layers.LSTM(64),\n",
    "                    layers.Dense(32, activation='relu'),\n",
    "                    layers.Dense(32, activation='relu'),\n",
    "                    layers.Dense(1)])\n",
    "\n",
    "# mean squared error\n",
    "model.compile(loss='mse',\n",
    "              optimizer=Adam(learning_rate=0.00001),\n",
    "              metrics=['mean_absolute_error'])"
   ]
  },
  {
   "cell_type": "markdown",
   "id": "cada75b7",
   "metadata": {},
   "source": [
    "## Тренування моделі"
   ]
  },
  {
   "cell_type": "code",
   "execution_count": null,
   "id": "ff8832cc",
   "metadata": {},
   "outputs": [],
   "source": [
    "y_train"
   ]
  },
  {
   "cell_type": "code",
   "execution_count": null,
   "id": "3c440577",
   "metadata": {
    "scrolled": true
   },
   "outputs": [],
   "source": [
    "model.fit(X_train, y_train, validation_data=(X_val, y_val), epochs=10)"
   ]
  },
  {
   "cell_type": "markdown",
   "id": "83cd7ddd",
   "metadata": {},
   "source": [
    "## Оцінка якості передбачень моделі"
   ]
  },
  {
   "cell_type": "code",
   "execution_count": null,
   "id": "96236fcd",
   "metadata": {},
   "outputs": [],
   "source": [
    "train_predictions = model.predict(X_train).flatten()\n",
    "\n",
    "plt.plot(dates_train, train_predictions)\n",
    "plt.plot(dates_train, y_train)\n",
    "plt.legend(['Training Predictions', 'Training Observations'])"
   ]
  }
 ],
 "metadata": {
  "kernelspec": {
   "display_name": "Python 3 (ipykernel)",
   "language": "python",
   "name": "python3"
  },
  "language_info": {
   "codemirror_mode": {
    "name": "ipython",
    "version": 3
   },
   "file_extension": ".py",
   "mimetype": "text/x-python",
   "name": "python",
   "nbconvert_exporter": "python",
   "pygments_lexer": "ipython3",
   "version": "3.9.16"
  }
 },
 "nbformat": 4,
 "nbformat_minor": 5
}
